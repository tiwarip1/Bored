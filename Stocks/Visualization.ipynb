{
 "cells": [
  {
   "cell_type": "code",
   "execution_count": 9,
   "metadata": {
    "collapsed": true
   },
   "outputs": [],
   "source": [
    "import sys\n",
    "from PyQt5 import QtCore, QtWidgets\n",
    "from PyQt5.QtWidgets import QMainWindow, QCheckBox,  QApplication, QWidget, QPushButton, QAction, QLineEdit, QMessageBox, QInputDialog, QLabel\n",
    "from PyQt5.QtGui import *  \n",
    "from PyQt5.QtCore import QSize \n",
    "import pandas as pd\n",
    "import matplotlib.pyplot as plt\n",
    "from matplotlib import style\n",
    "import pandas_datareader.data as web\n",
    "import datetime as dt\n",
    "import bs4 as bs\n",
    "import pickle\n",
    "import requests\n",
    "import os\n",
    "import re\n",
    "import time\n",
    "import numpy as np\n",
    "from scipy.interpolate import UnivariateSpline\n",
    "%matplotlib inline\n",
    "\n",
    "style.use('ggplot')"
   ]
  },
  {
   "cell_type": "code",
   "execution_count": 2,
   "metadata": {
    "collapsed": true
   },
   "outputs": [],
   "source": [
    "def create_csv(stock='TSLA',start=dt.datetime(2017,1,1),now = dt.datetime.now(),location = 'Unmodified'):\n",
    "    \n",
    "    '''This function takes values from yahoo finance and turns it into a pandas database, saving it as a csv in a folder'''\n",
    "\n",
    "    #now = dt.datetime.now()\n",
    "    end=dt.datetime(now.year,now.month,now.day)\n",
    "    \n",
    "    dataframe = web.DataReader(stock,'iex',start,end)\n",
    "    \n",
    "    TSLA = dataframe.to_csv('stock_dfs/{}/{}.csv'.format(str(location),str(stock)))"
   ]
  },
  {
   "cell_type": "code",
   "execution_count": 3,
   "metadata": {
    "collapsed": true
   },
   "outputs": [],
   "source": [
    "def read_csv(stock='TSLA',location = 'Unmodified'):\n",
    "    \n",
    "    '''This function reads the data from the csv stored by create_csv and adds some rolling averages and plots it all'''\n",
    "    \n",
    "    fit = plt.figure(figsize = [20,10])\n",
    "    df=pd.read_csv('stock_dfs/{}/{}.csv'.format(location,stock),parse_dates=True,index_col=0)\n",
    "    \n",
    "    try:\n",
    "        df['300ma']=df['Close'].rolling(window=300,min_periods=0).mean()\n",
    "        df['100ma']=df['Close'].rolling(window=100,min_periods=0).mean()\n",
    "        df['80ma']=df['Close'].rolling(window=80,min_periods=0).mean()\n",
    "        df['40ma']=df['Close'].rolling(window=40,min_periods=0).mean()\n",
    "        df['20ma']=df['Close'].rolling(window=20,min_periods=0).mean()\n",
    "    except KeyError or TypeError:\n",
    "        df['300ma']=df['close'].rolling(window=300,min_periods=0).mean()\n",
    "        df['100ma']=df['close'].rolling(window=100,min_periods=0).mean()\n",
    "        df['80ma']=df['close'].rolling(window=80,min_periods=0).mean()\n",
    "        df['40ma']=df['close'].rolling(window=40,min_periods=0).mean()\n",
    "        df['20ma']=df['close'].rolling(window=20,min_periods=0).mean()\n",
    "    \n",
    "    ax1=plt.subplot2grid((6,3),(0,0),rowspan=5,colspan=3,ylabel='Stock Price',title=stock)\n",
    "    ax2=plt.subplot2grid((6,3),(5,0),rowspan=1,colspan=3,sharex=ax1)\n",
    "    \n",
    "    try:\n",
    "        ax1.plot(df.index,df['Close'])\n",
    "    except KeyError or TypeError:\n",
    "        ax1.plot(df.index,df['close'])\n",
    "    ax1.plot(df.index,df['300ma'],label=\"300 day\")\n",
    "    ax1.plot(df.index,df['100ma'],label=\"100 day\")\n",
    "    ax1.plot(df.index,df['40ma'],label=\"40 day\")\n",
    "    ax1.plot(df.index,df['20ma'],label=\"20 day\")\n",
    "    ax1.legend(loc='upper left')\n",
    "    try:\n",
    "        ax2.plot(df.index,df['Volume'],color='black')\n",
    "    except:\n",
    "        ax2.plot(df.index,df['volume'],color='black')\n",
    "    df.to_csv('stock_dfs/{}/{}.csv'.format(location,stock))\n",
    "    "
   ]
  },
  {
   "cell_type": "code",
   "execution_count": 4,
   "metadata": {
    "collapsed": true
   },
   "outputs": [],
   "source": [
    "def save_sp500_tickers():\n",
    "    \n",
    "    '''This function takes the S&P 500 list and creates csvs for each of them using beautiful soup'''\n",
    "    \n",
    "    resp=requests.get('https://en.wikipedia.org/wiki/List_of_S%26P_500_companies')\n",
    "    soup = bs.BeautifulSoup(resp.text,'lxml')\n",
    "    table = soup.find('table',{'class':'wikitable sortable'})\n",
    "    stock_names = []\n",
    "    for row in table.findAll('tr')[1:]:\n",
    "        ticker = row.findAll('td')[0].text\n",
    "        stock_names.append(ticker)\n",
    "            \n",
    "    with open('sp500tickers.pickle','wb') as f:\n",
    "        pickle.dump(stock_names,f)\n",
    "        \n",
    "    print(stock_names)\n",
    "    \n",
    "    return stock_names"
   ]
  },
  {
   "cell_type": "code",
   "execution_count": 5,
   "metadata": {
    "collapsed": true
   },
   "outputs": [],
   "source": [
    "def get_data_from_yahoo(reload_sp500=False):\n",
    "    \n",
    "    '''This reimports data for the S&P 500 companies if needed'''\n",
    "    \n",
    "    if reload_sp500==True:\n",
    "        tickers = save_sp500_tickers()\n",
    "    else:\n",
    "        with open('sp500tickers.pickle','rb') as f:\n",
    "            tickers = pickle.load(f)\n",
    "            \n",
    "    if not os.path.exists('stock_dfs'):\n",
    "        os.makedirs('stock_dfs')\n",
    "    \n",
    "    start=dt.datetime(2017,1,1)\n",
    "    now = dt.datetime.now()\n",
    "    end=dt.datetime(now.year,now.month,now.day)\n",
    "    \n",
    "    for ticker in tickers[:500]:\n",
    "        time.sleep(2)\n",
    "        try:\n",
    "            if not os.path.exists('stock_dfs/Testing/{}.csv'.format(ticker)):\n",
    "                df=web.DataReader(ticker,'iex',start,end)\n",
    "                df.to_csv('stock_dfs/Testing/{}.csv'.format(ticker))\n",
    "            #else:\n",
    "                #print('Already have {}'.format(ticker))\n",
    "        except:\n",
    "            create_csv(ticker)"
   ]
  },
  {
   "cell_type": "code",
   "execution_count": 6,
   "metadata": {
    "collapsed": true
   },
   "outputs": [],
   "source": [
    "def testing(buying,selling,task='sum',stock='TSLA'):\n",
    "    \n",
    "    '''This is for testing when the rolling averages are profitable, mostly just for testing'''\n",
    "       \n",
    "    buy_stock=[]\n",
    "    sell_stock=[]\n",
    "    sum_total=0\n",
    "    buying=str(buying)\n",
    "    selling=str(selling)\n",
    "    \n",
    "    Previous_adj_close=0\n",
    "    sell_if_can=False\n",
    "    buy_now = False\n",
    "    sell_now = False\n",
    "        \n",
    "    df=pd.read_csv('stock_dfs/Testing/{}.csv'.format(stock),parse_dates=True,index_col=0)\n",
    "    try:\n",
    "        df['100ma']=df['Close'].rolling(window=100,min_periods=0).mean()\n",
    "        df['80ma']=df['Close'].rolling(window=80,min_periods=0).mean()\n",
    "        df['40ma']=df['Close'].rolling(window=40,min_periods=0).mean()\n",
    "        df['20ma']=df['Close'].rolling(window=20,min_periods=0).mean()\n",
    "    except KeyError or TypeError:\n",
    "        df['100ma']=df['close'].rolling(window=100,min_periods=0).mean()\n",
    "        df['80ma']=df['close'].rolling(window=80,min_periods=0).mean()\n",
    "        df['40ma']=df['close'].rolling(window=40,min_periods=0).mean()\n",
    "        df['20ma']=df['close'].rolling(window=20,min_periods=0).mean()\n",
    "    \n",
    "    for index,row in df.iterrows():\n",
    "        buy_new = False\n",
    "        sell_now = False\n",
    "        try:\n",
    "            Current_adj_close=row['Close']\n",
    "        except KeyError or TypeError:\n",
    "            Current_adj_close=row['close']\n",
    "        if row[buying+'ma']<Previous_adj_close and row[buying+'ma']>Current_adj_close and row[selling+'ma']<row[buying+'ma'] and sell_if_can==False:\n",
    "            buy_stock.append(Current_adj_close)\n",
    "            sell_if_can = True\n",
    "            buy_new = True\n",
    "        if sell_if_can==True and row[selling+'ma']>Previous_adj_close and row[selling+'ma']<Current_adj_close and row[selling+'ma']>buy_stock[-1]:\n",
    "            sell_stock.append(Current_adj_close)\n",
    "            sell_if_can=False\n",
    "            sell_now=True\n",
    "        Previous_adj_close=Current_adj_close\n",
    "\n",
    "    for i in range(0,len(buy_stock)):\n",
    "        try:\n",
    "            #print(sell_stock[i]-buy_stock[i])\n",
    "            sum_total+=sell_stock[i]-buy_stock[i]\n",
    "        except IndexError:\n",
    "            pass\n",
    "    #print(sum_total)\n",
    "    if buy_now:\n",
    "        print('yay')\n",
    "    if task == 'sum':\n",
    "        return sum_total\n",
    "    elif task == 'trade':\n",
    "        return buy_now,sell_now"
   ]
  },
  {
   "cell_type": "code",
   "execution_count": 7,
   "metadata": {
    "collapsed": true
   },
   "outputs": [],
   "source": [
    "def add_double_derivative(stock='TSLA'):\n",
    "    \n",
    "    '''More testing to see if numerical integration could be useful for finding trends'''\n",
    "    #This doesn't work properly, fix it later\n",
    "    \n",
    "    df=pd.read_csv('stock_dfs/{}.csv'.format(stock),parse_dates=True,index_col=0)\n",
    "    \n",
    "    previous_row = df.iloc[0]\n",
    "    previous_previous_row = df.iloc[0] \n",
    "    \n",
    "    for index,row in df.iterrows():\n",
    "        #print(previous_previous_row['Adj Close'],previous_row['Adj Close'],row['Adj Close'])\n",
    "        df['double_derivative']=(float(previous_previous_row['Close'])-2*float(previous_row['Close'])+float(row['Close']))/4\n",
    "        previous_previous_row=previous_row\n",
    "        previous_row=row\n",
    "    #print(df)"
   ]
  },
  {
   "cell_type": "code",
   "execution_count": 8,
   "metadata": {
    "collapsed": true
   },
   "outputs": [],
   "source": [
    "def record_testing_results():\n",
    "    \n",
    "    '''When testing, we want to output the results to a csv'''\n",
    "    \n",
    "    df=pd.DataFrame(columns = ['Stock','100ma - 20ma','100ma - 40ma','40ma - 20ma'])\n",
    "    \n",
    "    for file in os.listdir('stock_dfs/Testing/'):\n",
    "        list_dict=[]\n",
    "        if file.endswith(\".csv\") and file!='rolling_average_testing.csv':\n",
    "            stock = file[:file.find('.')]\n",
    "            list_dict.append(stock)\n",
    "            #print(stock)\n",
    "            list_dict.append(testing(100,20,stock))\n",
    "            list_dict.append(testing(100,40,stock))\n",
    "            list_dict.append(testing(40,20,stock))\n",
    "            df.loc[len(df)]=list_dict\n",
    "    df.to_csv('stock_dfs/rolling_average_testing.csv')"
   ]
  },
  {
   "cell_type": "code",
   "execution_count": 28,
   "metadata": {
    "collapsed": true
   },
   "outputs": [],
   "source": [
    "def add_values():\n",
    "    \n",
    "    '''This is so we dont have to keep reimporting data everytime to view a dataset and only need to import a section of it'''\n",
    "    \n",
    "    for file in os.listdir('stock_dfs/Testing/'):\n",
    "        if file.endswith(\".csv\") and file!='rolling_average_testing.csv':\n",
    "            stock = file[:file.find('.csv')]\n",
    "            try:\n",
    "                df = pd.read_csv('stock_dfs/Testing/'+str(file),parse_dates=True)\n",
    "            except:\n",
    "                print(stock)\n",
    "                create_csv(stock,dt.datetime(2017,1,1),dt.datetime.now(),'Testing')\n",
    "                df = pd.read_csv('stock_dfs/Testing/'+str(file),parse_dates=True)\n",
    "            try:\n",
    "                last_item = pd.to_datetime(df['Date'].loc[len(df['Date'])-1])\n",
    "            except KeyError:\n",
    "                create_csv(stock,dt.datetime(2017,1,1),dt.datetime.now(),'Testing')\n",
    "                \n",
    "                continue\n",
    "            start = last_item\n",
    "            \n",
    "            now = dt.datetime.now()\n",
    "            end=dt.datetime(now.year,now.month,now.day)\n",
    "            if not end.weekday():\n",
    "                end = end - dt.timedelta(days=1)\n",
    "                if not end.weekday():\n",
    "                    end = end - dt.timedelta(days=1)\n",
    "            if start+ dt.timedelta(days=1) >= end:\n",
    "                \n",
    "                continue\n",
    "            start =  start + dt.timedelta(days=1)\n",
    "            start = start.date()\n",
    "            end = end.date()\n",
    "            try:\n",
    "                dataframe = web.DataReader(stock,'iex',start,end)\n",
    "            except:\n",
    "                dataframe = web.DataReader(stock,'iex',start,end)\n",
    "            dataframe['Date']=dataframe.index\n",
    "            dataframe['Date'] = pd.to_datetime(dataframe['Date']).dt.date\n",
    "            try:\n",
    "                df = pd.concat([df,dataframe],ignore_index = True)\n",
    "            except ValueError:\n",
    "                print(stock,\"Has a problem to it\")\n",
    "                break\n",
    "            #print(df)\n",
    "            thing = df.to_csv('stock_dfs/Testing/{}.csv'.format(stock))\n",
    "            break"
   ]
  },
  {
   "cell_type": "code",
   "execution_count": 29,
   "metadata": {
    "collapsed": true
   },
   "outputs": [],
   "source": [
    "def iterate_stocks():\n",
    "    '''This function will iterate over all the csvs and tell you which ones you should sell now or buy now'''\n",
    "    \n",
    "    for file in os.listdir('stock_dfs/Testing/'):\n",
    "        if file.endswith(\".csv\") and file!='rolling_average_testing.csv':\n",
    "            stock = file[:file.find('.csv')]\n",
    "            buy_now,sell_now = testing('40','20','trade',stock)\n",
    "            if buy_now:\n",
    "                print(\"Buy {}\".format(stock))\n",
    "                read_csv(stock,'Testing')\n",
    "                plt.show()\n",
    "            if sell_now:\n",
    "                print(\"Sell {}\".format(stock))\n",
    "                read_csv(stock,'Testing')\n",
    "                plt.show()\n",
    "            "
   ]
  },
  {
   "cell_type": "code",
   "execution_count": 36,
   "metadata": {
    "collapsed": true
   },
   "outputs": [],
   "source": [
    "import csv\n",
    "import datetime\n",
    "import re\n",
    "\n",
    "import pandas as pd\n",
    "import requests\n",
    "\n",
    "def get_google_finance_intraday(ticker, period=300, days=60):\n",
    "    \"\"\"\n",
    "    Retrieve intraday stock data from Google Finance.\n",
    "    Parameters\n",
    "    ----------\n",
    "    ticker : str\n",
    "        Company ticker symbol.\n",
    "    period : int\n",
    "        Interval between stock values in seconds.\n",
    "    days : int\n",
    "        Number of days of data to retrieve.\n",
    "    Returns\n",
    "    -------\n",
    "    df : pandas.DataFrame\n",
    "        DataFrame containing the opening price, high price, low price,\n",
    "        closing price, and volume. The index contains the times associated with\n",
    "        the retrieved price values.\n",
    "    \"\"\"\n",
    "\n",
    "    uri = 'https://finance.google.com/finance/getprices' \\\n",
    "          '?i={period}&p={days}d&f=d,o,h,l,c,v&df=cpct&q={ticker}'.format(ticker=ticker,\n",
    "                                                                          period=period,\n",
    "                                                                          days=days)\n",
    "    page = requests.get(uri)\n",
    "    reader = csv.reader(page.text.splitlines())\n",
    "    columns = ['Open', 'High', 'Low', 'Close', 'Volume']\n",
    "    rows = []\n",
    "    times = []\n",
    "    for row in reader:\n",
    "        if re.match('^[a\\d]', row[0]):\n",
    "            if row[0].startswith('a'):\n",
    "                start = datetime.datetime.fromtimestamp(int(row[0][1:]))\n",
    "                times.append(start)\n",
    "            else:\n",
    "                times.append(start+datetime.timedelta(seconds=period*int(row[0])))\n",
    "            rows.append(map(float, row[1:]))\n",
    "    if len(rows):\n",
    "        return pd.DataFrame(rows, index=pd.DatetimeIndex(times, name='Date'),\n",
    "                            columns=columns)\n",
    "    else:\n",
    "        return pd.DataFrame(rows, index=pd.DatetimeIndex(times, name='Date'))"
   ]
  },
  {
   "cell_type": "code",
   "execution_count": null,
   "metadata": {
    "collapsed": true
   },
   "outputs": [],
   "source": [
    "def collect_data(ticker):\n",
    "    \n",
    "    if ticker+'.csv' in os.listdir('../../stored_data'): \n",
    "        df = get_google_finance_intraday(ticker,300)\n",
    "    else:\n",
    "        "
   ]
  },
  {
   "cell_type": "code",
   "execution_count": null,
   "metadata": {
    "collapsed": true
   },
   "outputs": [],
   "source": [
    "def main(name):\n",
    "    \n",
    "    name=str(name)\n",
    "    start=dt.datetime(2017,1,1)\n",
    "    #end = dt.datetime(2018,1,1)\n",
    "    \n",
    "    #get_data_from_yahoo(True)\n",
    "    \n",
    "    #create_csv(name,start,end,'Testing')\n",
    "    #read_csv(name)\n",
    "    #plt.show()\n",
    "    #testing_100ma_20ma(name)\n",
    "    #testing_100ma_40ma(name)\n",
    "    #testing_40ma_20ma(name)\n",
    "    #add_double_derivative(name) #Fix this\n",
    "    #record_testing_results()\n",
    "    #add_values()\n",
    "    #iterate_stocks()\n",
    "    \n",
    "    \n",
    "try:\n",
    "    stock = 'A'\n",
    "    main(stock)\n",
    "except:\n",
    "    main(stock)"
   ]
  },
  {
   "cell_type": "code",
   "execution_count": 23,
   "metadata": {},
   "outputs": [],
   "source": [
    "import os\n",
    "import pandas as pd\n",
    "import numpy as np\n",
    "import datetime as dt\n",
    "import matplotlib.pyplot as plt\n",
    "    \n",
    "def add_rolling_average(df,n):\n",
    "    '''This is a general function that makes a rolling average over n\n",
    "    data points'''\n",
    "    \n",
    "    df['{}ma'.format(n)]=df['Close'].rolling(window=n*12,min_periods=0).mean()\n",
    "    return df\n",
    "\n",
    "def testing_rolling_data(df):\n",
    "    \n",
    "    rows = []\n",
    "    for i in range(5,60,5):\n",
    "        columns = []\n",
    "        for j in range(5,60,5):\n",
    "            if i>=j:\n",
    "                columns.append(0)\n",
    "                continue\n",
    "            df1 = df\n",
    "            df1 = add_rolling_average(df1,i)\n",
    "            df1 = add_rolling_average(df1,j)\n",
    "            columns.append(check_rolling_returns(df1,i,j))\n",
    "        rows.append(columns)\n",
    "        \n",
    "    plt.imshow(rows)\n",
    "    plt.colorbar()\n",
    "    plt.show()\n",
    "    \n",
    "    return rows,pos\n",
    "            \n",
    "def check_rolling_returns(df,buying,selling):\n",
    "    \n",
    "    buy_stock = []\n",
    "    sell_stock = []\n",
    "    Previous_adj_close=0\n",
    "    sell_if_can=False\n",
    "    sum_total = 0\n",
    "    \n",
    "    for index,row in df.iterrows():\n",
    "        \n",
    "        Current_adj_close=row['Close']\n",
    "        \n",
    "        if row['{}ma'.format(buying)]<Previous_adj_close and row['{}ma'.format(buying)]>\\\n",
    "        Current_adj_close and row['{}ma'.format(selling)]<row['{}ma'.format(buying)] and \\\n",
    "        sell_if_can==False:\n",
    "            \n",
    "            buy_stock.append(Current_adj_close)\n",
    "            sell_if_can = True\n",
    "            \n",
    "        if sell_if_can==True and row['{}ma'.format(selling)]>Previous_adj_close and \\\n",
    "        row['{}ma'.format(selling)]<Current_adj_close and row['{}ma'.format(selling)]>buy_stock[-1]:\n",
    "            sell_stock.append(Current_adj_close)\n",
    "            sell_if_can=False\n",
    "        Previous_adj_close=Current_adj_close\n",
    "\n",
    "    sell_stock.append(Current_adj_close)\n",
    "\n",
    "    for i in range(0,len(buy_stock)):\n",
    "        \n",
    "        sum_total+=sell_stock[i]-buy_stock[i]\n",
    "        \n",
    "    return round(sum_total,3)\n",
    "\n",
    "def main():\n",
    "    \n",
    "    for file in os.listdir(\"../../stored_data/\"):\n",
    "        if file.endswith(\".csv\"):\n",
    "            ticker = file[:file.find(\".csv\")]\n",
    "            df = pd.read_csv('../../stored_data/{}.csv'.format(ticker))\n",
    "            return testing_rolling_data(df)\n",
    "            #df = add_rolling_average(df,20)\n",
    "            #df = add_rolling_average(df,40)\n",
    "            #df = add_rolling_average(df,60)\n",
    "            #df = add_rolling_average(df,80)\n",
    "            #df = add_rolling_average(df,100)"
   ]
  },
  {
   "cell_type": "code",
   "execution_count": 24,
   "metadata": {
    "collapsed": true
   },
   "outputs": [],
   "source": [
    "rows,pos = main()"
   ]
  },
  {
   "cell_type": "code",
   "execution_count": 25,
   "metadata": {},
   "outputs": [
    {
     "data": {
      "text/plain": [
       "<matplotlib.colorbar.Colorbar at 0x199d01c5ba8>"
      ]
     },
     "execution_count": 25,
     "metadata": {},
     "output_type": "execute_result"
    },
    {
     "data": {
      "image/png": "[encoded data removed]",
      "text/plain": [
       "<matplotlib.figure.Figure at 0x199cd6fc6a0>"
      ]
     },
     "metadata": {},
     "output_type": "display_data"
    }
   ],
   "source": [
    "plt.imshow(rows)\n",
    "plt.colorbar()"
   ]
  },
  {
   "cell_type": "code",
   "execution_count": 26,
   "metadata": {},
   "outputs": [
    {
     "name": "stdout",
     "output_type": "stream",
     "text": [
      "   012.82-3.37-21.255.089-3.2416.63225.817-11.31-11.31-12.255-12.349-13.265-10.8754.0110.6310.968-0.695-3.819-3.004\n",
      "   0   0-14.3729.88821.762-4.14.3827.263-11.78-10.25-11.706-13.06-13.975-13.565.934.721.072.196-5.459-2.242\n",
      "   0   0   09.12827.196-7.895-16.785-10.935-11.355-11.355-12.49-13.284-14.07-13.465-12.955-14.015-14.803-15.485-13.663-16.258\n",
      "   0   0   0   06.59-17.61-19.01-12.73-13.15-13.15-14.286-15.079-15.865-15.26-14.75-15.81-16.598-17.28-20.405-21.1\n",
      "   0   0   0   0   0-5.451-10.515-11.83-12.25-12.25-13.385-14.179-14.965-14.36-13.85-14.855-14.16114.6938.7059.44\n",
      "   0   0   0   0   0   0-9.244.973-9.98-9.98-12.026-13.44-14.225-13.62-13.11-12.368-11.598-13.26-16.385-17.49\n",
      "   0   0   0   0   0   0   014.378-8.82-10.55-11.386-12.204-13.74-12.005-11.495-12.555-13.343-12.055-17.37-18.475\n",
      "   0   0   0   0   0   0   0   0-21.442-18.066-18.422-17.015-17.333-20.445-20.445-20.445-20.445-21.945-21.945-21.945\n",
      "   0   0   0   0   0   0   0   0   0-18.1873.572-16.611-17.727-14.777-19.353-19.353-19.353-21.757-21.757-21.757\n",
      "   0   0   0   0   0   0   0   0   0   0-15.257-15.845-15.311-9.706-18.192-17.435-17.435-18.31-20.23-20.23\n",
      "   0   0   0   0   0   0   0   0   0   0   0-12.989-10.855-9.646-15.159-15.279-19.811-20.791-20.791-20.791\n"
     ]
    }
   ],
   "source": [
    "print('\\n'.join([''.join(['{:4}'.format(item) for item in row]) \n",
    "      for row in rows]))"
   ]
  },
  {
   "cell_type": "code",
   "execution_count": null,
   "metadata": {
    "collapsed": true
   },
   "outputs": [],
   "source": []
  }
 ],
 "metadata": {
  "kernelspec": {
   "display_name": "Python 3",
   "language": "python",
   "name": "python3"
  },
  "language_info": {
   "codemirror_mode": {
    "name": "ipython",
    "version": 3
   },
   "file_extension": ".py",
   "mimetype": "text/x-python",
   "name": "python",
   "nbconvert_exporter": "python",
   "pygments_lexer": "ipython3",
   "version": "3.6.3"
  }
 },
 "nbformat": 4,
 "nbformat_minor": 2
}
