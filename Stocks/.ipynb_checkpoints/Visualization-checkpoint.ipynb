{
 "cells": [
  {
   "cell_type": "code",
   "execution_count": 17,
   "metadata": {
    "collapsed": true
   },
   "outputs": [],
   "source": [
    "import pandas as pd\n",
    "import matplotlib.pyplot as plt\n",
    "from matplotlib import style\n",
    "import pandas_datareader.data as web\n",
    "import datetime as dt\n",
    "%matplotlib inline\n",
    "\n",
    "style.use('ggplot')"
   ]
  },
  {
   "cell_type": "code",
   "execution_count": 2,
   "metadata": {
    "collapsed": true
   },
   "outputs": [],
   "source": [
    "def create_csv(stock='TSLA',start=dt.datetime(2017,1,1)):\n",
    "\n",
    "    now = dt.datetime.now()\n",
    "    end=dt.datetime(now.year,now.month,now.day)\n",
    "    \n",
    "    dataframe = web.DataReader(stock,'yahoo',start,end)\n",
    "    \n",
    "    TSLA = dataframe.to_csv(str(stock)+'.csv')"
   ]
  },
  {
   "cell_type": "code",
   "execution_count": 70,
   "metadata": {
    "collapsed": true
   },
   "outputs": [],
   "source": [
    "def read_csv(stock='TSLA'):\n",
    "    \n",
    "    df=pd.read_csv(str(stock)+'.csv',parse_dates=True,index_col=0)\n",
    "    \n",
    "    df['100ma']=df['Adj Close'].rolling(window=100,min_periods=0).mean()\n",
    "    \n",
    "    ax1=plt.subplot2grid((6,1),(0,0),rowspan=5,colspan=1,ylabel='Stock Price',title=stock)\n",
    "    ax2=plt.subplot2grid((6,1),(5,0),rowspan=1,colspan=1,sharex=ax1)\n",
    "    \n",
    "    ax1.plot(df.index,df['Adj Close'])\n",
    "    ax1.plot(df.index,df['100ma'])\n",
    "    ax2.plot(df.index,df['Volume'],color='black')"
   ]
  },
  {
   "cell_type": "code",
   "execution_count": null,
   "metadata": {},
   "outputs": [],
   "source": [
    "def main(name):\n",
    "    \n",
    "    name=str(name)\n",
    "    start=dt.datetime(2017,1,1)\n",
    "    \n",
    "    create_csv(name,start)\n",
    "    read_csv(name)\n",
    "    \n",
    "    plt.show()\n",
    "    \n",
    "main('SMS')"
   ]
  },
  {
   "cell_type": "code",
   "execution_count": null,
   "metadata": {
    "collapsed": true
   },
   "outputs": [],
   "source": []
  }
 ],
 "metadata": {
  "kernelspec": {
   "display_name": "Python 3",
   "language": "python",
   "name": "python3"
  },
  "language_info": {
   "codemirror_mode": {
    "name": "ipython",
    "version": 3
   },
   "file_extension": ".py",
   "mimetype": "text/x-python",
   "name": "python",
   "nbconvert_exporter": "python",
   "pygments_lexer": "ipython3",
   "version": "3.6.1"
  }
 },
 "nbformat": 4,
 "nbformat_minor": 2
}
