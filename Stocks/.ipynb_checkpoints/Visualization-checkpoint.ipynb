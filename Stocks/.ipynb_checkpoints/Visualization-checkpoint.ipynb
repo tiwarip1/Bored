{
 "cells": [
  {
   "cell_type": "code",
   "execution_count": null,
   "metadata": {
    "collapsed": true
   },
   "outputs": [],
   "source": [
    "import sys\n",
    "from PyQt5 import QtCore, QtWidgets\n",
    "from PyQt5.QtWidgets import QMainWindow, QCheckBox,  QApplication, QWidget, QPushButton, QAction, QLineEdit, QMessageBox, QInputDialog, QLabel\n",
    "from PyQt5.QtGui import *  \n",
    "from PyQt5.QtCore import QSize \n",
    "import pandas as pd\n",
    "import matplotlib.pyplot as plt\n",
    "from matplotlib import style\n",
    "import pandas_datareader.data as web\n",
    "import datetime as dt\n",
    "import bs4 as bs\n",
    "import pickle\n",
    "import requests\n",
    "import os\n",
    "import time\n",
    "import numpy as np\n",
    "from scipy.interpolate import UnivariateSpline\n",
    "%matplotlib inline\n",
    "\n",
    "style.use('ggplot')"
   ]
  },
  {
   "cell_type": "code",
   "execution_count": null,
   "metadata": {
    "collapsed": true
   },
   "outputs": [],
   "source": [
    "def create_csv(stock='TSLA',start=dt.datetime(2017,1,1),now = dt.datetime.now(),location = 'Unmodified'):\n",
    "    \n",
    "    '''This function takes values from yahoo finance and turns it into a pandas database, saving it as a csv in a folder'''\n",
    "\n",
    "    #now = dt.datetime.now()\n",
    "    end=dt.datetime(now.year,now.month,now.day)\n",
    "    \n",
    "    dataframe = web.DataReader(stock,'iex',start,end)\n",
    "    \n",
    "    TSLA = dataframe.to_csv('stock_dfs/{}/{}.csv'.format(str(location),str(stock)))"
   ]
  },
  {
   "cell_type": "code",
   "execution_count": null,
   "metadata": {
    "collapsed": true
   },
   "outputs": [],
   "source": [
    "def read_csv(stock='TSLA'):\n",
    "    \n",
    "    '''This function reads the data from the csv stored by create_csv and adds some rolling averages and plots it all'''\n",
    "    \n",
    "    fit = plt.figure(figsize = [20,10])\n",
    "    df=pd.read_csv('stock_dfs/Unmodified/{}.csv'.format(stock),parse_dates=True,index_col=0)\n",
    "    \n",
    "    df['300ma']=df['Close'].rolling(window=300,min_periods=0).mean()\n",
    "    df['100ma']=df['Close'].rolling(window=100,min_periods=0).mean()\n",
    "    df['40ma']=df['Close'].rolling(window=40,min_periods=0).mean()\n",
    "    df['20ma']=df['Close'].rolling(window=20,min_periods=0).mean()\n",
    "    \n",
    "    ax1=plt.subplot2grid((6,3),(0,0),rowspan=5,colspan=3,ylabel='Stock Price',title=stock)\n",
    "    ax2=plt.subplot2grid((6,3),(5,0),rowspan=1,colspan=3,sharex=ax1)\n",
    "    \n",
    "    ax1.plot(df.index,df['Close'])\n",
    "    ax1.plot(df.index,df['300ma'],label=\"300 day\")\n",
    "    ax1.plot(df.index,df['100ma'],label=\"100 day\")\n",
    "    ax1.plot(df.index,df['40ma'],label=\"40 day\")\n",
    "    ax1.plot(df.index,df['20ma'],label=\"20 day\")\n",
    "    ax1.legend(loc='upper right')\n",
    "    ax2.plot(df.index,df['Volume'],color='black')\n",
    "    df.to_csv('stock_dfs/Unmodified/{}.csv'.format(stock))\n",
    "    "
   ]
  },
  {
   "cell_type": "code",
   "execution_count": null,
   "metadata": {
    "collapsed": true
   },
   "outputs": [],
   "source": [
    "def save_sp500_tickers():\n",
    "    \n",
    "    '''This function takes the S&P 500 list and creates csvs for each of them using beautiful soup'''\n",
    "    \n",
    "    resp=requests.get('https://en.wikipedia.org/wiki/List_of_S%26P_500_companies')\n",
    "    soup = bs.BeautifulSoup(resp.text,'lxml')\n",
    "    table = soup.find('table',{'class':'wikitable sortable'})\n",
    "    stock_names = []\n",
    "    for row in table.findAll('tr')[1:]:\n",
    "        ticker = row.findAll('td')[0].text\n",
    "        stock_names.append(ticker)\n",
    "            \n",
    "    with open('sp500tickers.pickle','wb') as f:\n",
    "        pickle.dump(stock_names,f)\n",
    "        \n",
    "    print(stock_names)\n",
    "    \n",
    "    return stock_names"
   ]
  },
  {
   "cell_type": "code",
   "execution_count": null,
   "metadata": {
    "collapsed": true
   },
   "outputs": [],
   "source": [
    "def get_data_from_yahoo(reload_sp500=False):\n",
    "    \n",
    "    '''This reimports data for the S&P 500 companies if needed'''\n",
    "    \n",
    "    if reload_sp500==True:\n",
    "        tickers = save_sp500_tickers()\n",
    "    else:\n",
    "        with open('sp500tickers.pickle','rb') as f:\n",
    "            tickers = pickle.load(f)\n",
    "            \n",
    "    if not os.path.exists('stock_dfs'):\n",
    "        os.makedirs('stock_dfs')\n",
    "    \n",
    "    start=dt.datetime(2017,1,1)\n",
    "    now = dt.datetime.now()\n",
    "    end=dt.datetime(now.year,now.month,now.day)\n",
    "    \n",
    "    for ticker in tickers[:500]:\n",
    "        time.sleep(2)\n",
    "        try:\n",
    "            if not os.path.exists('stock_dfs/Testing/{}.csv'.format(ticker)):\n",
    "                df=web.DataReader(ticker,'iex',start,end)\n",
    "                df.to_csv('stock_dfs/Testing/{}.csv'.format(ticker))\n",
    "            #else:\n",
    "                #print('Already have {}'.format(ticker))\n",
    "        except:\n",
    "            create_csv(ticker)"
   ]
  },
  {
   "cell_type": "code",
   "execution_count": 6,
   "metadata": {
    "collapsed": true
   },
   "outputs": [],
   "source": [
    "def testing(buying,selling,stock='TSLA'):\n",
    "    \n",
    "    '''This is for testing when the rolling averages are profitable, mostly just for testing'''\n",
    "       \n",
    "    buy_stock=[]\n",
    "    sell_stock=[]\n",
    "    sum_total=0\n",
    "    buying=str(buying)\n",
    "    selling=str(selling)\n",
    "    \n",
    "    Previous_adj_close=0\n",
    "    sell_if_can=False\n",
    "        \n",
    "    df=pd.read_csv('stock_dfs/Testing/{}.csv'.format(stock),parse_dates=True,index_col=0)\n",
    "    \n",
    "    df['300ma']=df['Close'].rolling(window=300,min_periods=0).mean()\n",
    "    df['100ma']=df['Close'].rolling(window=100,min_periods=0).mean()\n",
    "    df['40ma']=df['Close'].rolling(window=40,min_periods=0).mean()\n",
    "    df['20ma']=df['Close'].rolling(window=20,min_periods=0).mean()\n",
    "    \n",
    "    for index,row in df.iterrows():\n",
    "        Current_adj_close=row['Adj Close']\n",
    "        if row[buying+'ma']<Previous_adj_close and row[buying+'ma']>Current_adj_close and row[selling+'ma']<row[buying+'ma'] and sell_if_can==False:\n",
    "            buy_stock.append(Current_adj_close)\n",
    "            sell_if_can = True\n",
    "        if sell_if_can==True and row[selling+'ma']>Previous_adj_close and row[selling+'ma']<Current_adj_close and row[selling+'ma']>buy_stock[-1]:\n",
    "            sell_stock.append(Current_adj_close)\n",
    "            sell_if_can=False\n",
    "        Previous_adj_close=Current_adj_close\n",
    "\n",
    "    for i in range(0,len(buy_stock)):\n",
    "        try:\n",
    "            #print(sell_stock[i]-buy_stock[i])\n",
    "            sum_total+=sell_stock[i]-buy_stock[i]\n",
    "        except IndexError:\n",
    "            pass\n",
    "    #print(sum_total)\n",
    "    return sum_total"
   ]
  },
  {
   "cell_type": "code",
   "execution_count": 7,
   "metadata": {
    "collapsed": true
   },
   "outputs": [],
   "source": [
    "def add_double_derivative(stock='TSLA'):\n",
    "    \n",
    "    '''More testing to see if numerical integration could be useful for finding trends'''\n",
    "    #This doesn't work properly, fix it later\n",
    "    \n",
    "    df=pd.read_csv('stock_dfs/{}.csv'.format(stock),parse_dates=True,index_col=0)\n",
    "    \n",
    "    previous_row = df.iloc[0]\n",
    "    previous_previous_row = df.iloc[0] \n",
    "    \n",
    "    for index,row in df.iterrows():\n",
    "        #print(previous_previous_row['Adj Close'],previous_row['Adj Close'],row['Adj Close'])\n",
    "        df['double_derivative']=(float(previous_previous_row['Close'])-2*float(previous_row['Close'])+float(row['Close']))/4\n",
    "        previous_previous_row=previous_row\n",
    "        previous_row=row\n",
    "    #print(df)"
   ]
  },
  {
   "cell_type": "code",
   "execution_count": 8,
   "metadata": {
    "collapsed": true
   },
   "outputs": [],
   "source": [
    "def record_testing_results():\n",
    "    \n",
    "    '''When testing, we want to output the results to a csv'''\n",
    "    \n",
    "    df=pd.DataFrame(columns = ['Stock','100ma - 20ma','100ma - 40ma','40ma - 20ma'])\n",
    "    \n",
    "    for file in os.listdir('stock_dfs/Testing/'):\n",
    "        list_dict=[]\n",
    "        if file.endswith(\".csv\") and file!='rolling_average_testing.csv':\n",
    "            stock = file[:file.find('.')]\n",
    "            list_dict.append(stock)\n",
    "            #print(stock)\n",
    "            list_dict.append(testing(100,20,stock))\n",
    "            list_dict.append(testing(100,40,stock))\n",
    "            list_dict.append(testing(40,20,stock))\n",
    "            df.loc[len(df)]=list_dict\n",
    "    df.to_csv('stock_dfs/rolling_average_testing.csv')"
   ]
  },
  {
   "cell_type": "code",
   "execution_count": null,
   "metadata": {
    "collapsed": true
   },
   "outputs": [],
   "source": [
    "def add_values():\n",
    "    \n",
    "    '''This is so we dont have to keep reimporting data everytime to view a dataset and only need to import a section of it'''\n",
    "    \n",
    "    for file in os.listdir('stock_dfs/Testing/'):\n",
    "        if file.endswith(\".csv\") and file!='rolling_average_testing.csv':\n",
    "            stock = file[:file.find('.')]\n",
    "            df = pd.read_csv('stock_dfs/Testing/'+str(file),parse_dates=True)\n",
    "            df = df.dropna(thresh = 0) #Can't get rid of NaN easily\n",
    "            last_item = pd.to_datetime(df['Date'].iloc[-1])\n",
    "            start = last_item\n",
    "            now = dt.datetime.now()\n",
    "            end=dt.datetime(now.year,now.month,now.day)\n",
    "            if not end.weekday():\n",
    "                end = end - dt.timedelta(days=1)\n",
    "                if not end.weekday():\n",
    "                    end = end - dt.timedelta(days=1)\n",
    "            if start+ dt.timedelta(days=1) >= end:\n",
    "                continue\n",
    "            start =  start + dt.timedelta(days=1)\n",
    "            start = start.date()\n",
    "            end = end.date()\n",
    "            try:\n",
    "                dataframe = web.DataReader(stock,'iex',start,end)\n",
    "            except:\n",
    "                dataframe = web.DataReader(stock,'iex',start,end)\n",
    "            dataframe['Date']=dataframe.index\n",
    "            dataframe['Date'] = pd.to_datetime(dataframe['Date']).dt.date\n",
    "            try:\n",
    "                df = pd.concat([df,dataframe],ignore_index = True)\n",
    "            except ValueError:\n",
    "                print(stock,\"Has a problem to it\")\n",
    "                break\n",
    "            #print(df)\n",
    "            thing = df.to_csv('stock_dfs/Testing/{}.csv'.format(stock))\n",
    "            break"
   ]
  },
  {
   "cell_type": "code",
   "execution_count": null,
   "metadata": {
    "scrolled": false
   },
   "outputs": [
    {
     "name": "stdout",
     "output_type": "stream",
     "text": [
      "['MMM', 'ABT', 'ABBV', 'ACN', 'ATVI', 'AYI', 'ADBE', 'AMD', 'AAP', 'AES', 'AET', 'AMG', 'AFL', 'A', 'APD', 'AKAM', 'ALK', 'ALB', 'ARE', 'ALXN', 'ALGN', 'ALLE', 'AGN', 'ADS', 'LNT', 'ALL', 'GOOGL', 'GOOG', 'MO', 'AMZN', 'AEE', 'AAL', 'AEP', 'AXP', 'AIG', 'AMT', 'AWK', 'AMP', 'ABC', 'AME', 'AMGN', 'APH', 'APC', 'ADI', 'ANDV', 'ANSS', 'ANTM', 'AON', 'AOS', 'APA', 'AIV', 'AAPL', 'AMAT', 'APTV', 'ADM', 'ARNC', 'AJG', 'AIZ', 'T', 'ADSK', 'ADP', 'AZO', 'AVB', 'AVY', 'BHGE', 'BLL', 'BAC', 'BK', 'BAX', 'BBT', 'BDX', 'BRK.B', 'BBY', 'BIIB', 'BLK', 'HRB', 'BA', 'BWA', 'BXP', 'BSX', 'BHF', 'BMY', 'AVGO', 'BF.B', 'CHRW', 'CA', 'COG', 'CDNS', 'CPB', 'COF', 'CAH', 'CBOE', 'KMX', 'CCL', 'CAT', 'CBG', 'CBS', 'CELG', 'CNC', 'CNP', 'CTL', 'CERN', 'CF', 'SCHW', 'CHTR', 'CHK', 'CVX', 'CMG', 'CB', 'CHD', 'CI', 'XEC', 'CINF', 'CTAS', 'CSCO', 'C', 'CFG', 'CTXS', 'CLX', 'CME', 'CMS', 'KO', 'CTSH', 'CL', 'CMCSA', 'CMA', 'CAG', 'CXO', 'COP', 'ED', 'STZ', 'COO', 'GLW', 'COST', 'COTY', 'CCI', 'CSRA', 'CSX', 'CMI', 'CVS', 'DHI', 'DHR', 'DRI', 'DVA', 'DE', 'DAL', 'XRAY', 'DVN', 'DLR', 'DFS', 'DISCA', 'DISCK', 'DISH', 'DG', 'DLTR', 'D', 'DOV', 'DWDP', 'DPS', 'DTE', 'DRE', 'DUK', 'DXC', 'ETFC', 'EMN', 'ETN', 'EBAY', 'ECL', 'EIX', 'EW', 'EA', 'EMR', 'ETR', 'EVHC', 'EOG', 'EQT', 'EFX', 'EQIX', 'EQR', 'ESS', 'EL', 'ES', 'RE', 'EXC', 'EXPE', 'EXPD', 'ESRX', 'EXR', 'XOM', 'FFIV', 'FB', 'FAST', 'FRT', 'FDX', 'FIS', 'FITB', 'FE', 'FISV', 'FLIR', 'FLS', 'FLR', 'FMC', 'FL', 'F', 'FTV', 'FBHS', 'BEN', 'FCX', 'GPS', 'GRMN', 'IT', 'GD', 'GE', 'GGP', 'GIS', 'GM', 'GPC', 'GILD', 'GPN', 'GS', 'GT', 'GWW', 'HAL', 'HBI', 'HOG', 'HRS', 'HIG', 'HAS', 'HCA', 'HCP', 'HP', 'HSIC', 'HSY', 'HES', 'HPE', 'HLT', 'HOLX', 'HD', 'HON', 'HRL', 'HST', 'HPQ', 'HUM', 'HBAN', 'HII', 'IDXX', 'INFO', 'ITW', 'ILMN', 'IR', 'INTC', 'ICE', 'IBM', 'INCY', 'IP', 'IPG', 'IFF', 'INTU', 'ISRG', 'IVZ', 'IQV', 'IRM', 'JEC', 'JBHT', 'SJM', 'JNJ', 'JCI', 'JPM', 'JNPR', 'KSU', 'K', 'KEY', 'KMB', 'KIM', 'KMI', 'KLAC', 'KSS', 'KHC', 'KR', 'LB', 'LLL', 'LH', 'LRCX', 'LEG', 'LEN', 'LUK', 'LLY', 'LNC', 'LKQ', 'LMT', 'L', 'LOW', 'LYB', 'MTB', 'MAC', 'M', 'MRO', 'MPC', 'MAR', 'MMC', 'MLM', 'MAS', 'MA', 'MAT', 'MKC', 'MCD', 'MCK', 'MDT', 'MRK', 'MET', 'MTD', 'MGM', 'KORS', 'MCHP', 'MU', 'MSFT', 'MAA', 'MHK', 'TAP', 'MDLZ', 'MON', 'MNST', 'MCO', 'MS', 'MOS', 'MSI', 'MYL', 'NDAQ', 'NOV', 'NAVI', 'NTAP', 'NFLX', 'NWL', 'NFX', 'NEM', 'NWSA', 'NWS', 'NEE', 'NLSN', 'NKE', 'NI', 'NBL', 'JWN', 'NSC', 'NTRS', 'NOC', 'NCLH', 'NRG', 'NUE', 'NVDA', 'ORLY', 'OXY', 'OMC', 'OKE', 'ORCL', 'PCAR', 'PKG', 'PH', 'PDCO', 'PAYX', 'PYPL', 'PNR', 'PBCT', 'PEP', 'PKI', 'PRGO', 'PFE', 'PCG', 'PM', 'PSX', 'PNW', 'PXD', 'PNC', 'RL', 'PPG', 'PPL', 'PX', 'PCLN', 'PFG', 'PG', 'PGR', 'PLD', 'PRU', 'PEG', 'PSA', 'PHM', 'PVH', 'QRVO', 'PWR', 'QCOM', 'DGX', 'RRC', 'RJF', 'RTN', 'O', 'RHT', 'REG', 'REGN', 'RF', 'RSG', 'RMD', 'RHI', 'ROK', 'COL', 'ROP', 'ROST', 'RCL', 'CRM', 'SBAC', 'SCG', 'SLB', 'SNI', 'STX', 'SEE', 'SRE', 'SHW', 'SIG', 'SPG', 'SWKS', 'SLG', 'SNA', 'SO', 'LUV', 'SPGI', 'SWK', 'SBUX', 'STT', 'SRCL', 'SYK', 'STI', 'SYMC', 'SYF', 'SNPS', 'SYY', 'TROW', 'TPR', 'TGT', 'TEL', 'FTI', 'TXN', 'TXT', 'TMO', 'TIF', 'TWX', 'TJX', 'TMK', 'TSS', 'TSCO', 'TDG', 'TRV', 'TRIP', 'FOXA', 'FOX', 'TSN', 'UDR', 'ULTA', 'USB', 'UAA', 'UA', 'UNP', 'UAL', 'UNH', 'UPS', 'URI', 'UTX', 'UHS', 'UNM', 'VFC', 'VLO', 'VAR', 'VTR', 'VRSN', 'VRSK', 'VZ', 'VRTX', 'VIAB', 'V', 'VNO', 'VMC', 'WMT', 'WBA', 'DIS', 'WM', 'WAT', 'WEC', 'WFC', 'HCN', 'WDC', 'WU', 'WRK', 'WY', 'WHR', 'WMB', 'WLTW', 'WYN', 'WYNN', 'XEL', 'XRX', 'XLNX', 'XL', 'XYL', 'YUM', 'ZBH', 'ZION', 'ZTS']\n",
      "2y\n",
      "2y\n",
      "2y\n",
      "2y\n",
      "2y\n",
      "2y\n",
      "2y\n",
      "2y\n",
      "2y\n",
      "2y\n",
      "2y\n",
      "2y\n",
      "2y\n",
      "2y\n",
      "2y\n",
      "2y\n",
      "2y\n",
      "2y\n",
      "2y\n",
      "2y\n",
      "2y\n",
      "2y\n",
      "2y\n",
      "2y\n",
      "2y\n",
      "2y\n",
      "2y\n",
      "2y\n"
     ]
    }
   ],
   "source": [
    "def main(name):\n",
    "    \n",
    "    name=str(name)\n",
    "    start=dt.datetime(2017,1,1)\n",
    "    #end = dt.datetime(2018,1,1)\n",
    "    \n",
    "    get_data_from_yahoo(True)\n",
    "    \n",
    "    #create_csv(name,start,end,'Testing')\n",
    "    #read_csv(name)\n",
    "    #plt.show()\n",
    "    #testing_100ma_20ma(name)\n",
    "    #testing_100ma_40ma(name)\n",
    "    #testing_40ma_20ma(name)\n",
    "    #add_double_derivative(name) #Fix this\n",
    "    #record_testing_results()\n",
    "    #add_values()\n",
    "    \n",
    "try:\n",
    "    stock = 'A'\n",
    "    main(stock)\n",
    "except:\n",
    "    main(stock)"
   ]
  },
  {
   "cell_type": "code",
   "execution_count": null,
   "metadata": {
    "collapsed": true
   },
   "outputs": [],
   "source": []
  }
 ],
 "metadata": {
  "kernelspec": {
   "display_name": "Python 3",
   "language": "python",
   "name": "python3"
  },
  "language_info": {
   "codemirror_mode": {
    "name": "ipython",
    "version": 3
   },
   "file_extension": ".py",
   "mimetype": "text/x-python",
   "name": "python",
   "nbconvert_exporter": "python",
   "pygments_lexer": "ipython3",
   "version": "3.6.3"
  }
 },
 "nbformat": 4,
 "nbformat_minor": 2
}
